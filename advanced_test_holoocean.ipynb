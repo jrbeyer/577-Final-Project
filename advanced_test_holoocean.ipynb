{
 "cells": [
  {
   "cell_type": "code",
   "execution_count": 1,
   "metadata": {},
   "outputs": [
    {
     "name": "stderr",
     "output_type": "stream",
     "text": [
      "/home/jrbeyer/mae577/577-Final-Project/agent_wrapper.py:197: RuntimeWarning: invalid value encountered in arccos\n",
      "  relative_angle = abs(np.arccos(np.dot(d, f)\n"
     ]
    }
   ],
   "source": [
    "import holoocean\n",
    "import numpy as np\n",
    "from pynput import keyboard\n",
    "from typing import Tuple, List, Dict\n",
    "import time\n",
    "import my_configs as config\n",
    "from agent_wrapper import agent\n",
    "from multi_agent_control_test import create_agent_list\n",
    "\n",
    "# number of environment ticks between control updates\n",
    "control_ticks_per_update = 5\n",
    "\n",
    "# Keyboard listener for exiting simulation\n",
    "pressed_keys = list()\n",
    "def on_press(key):\n",
    "    global pressed_keys\n",
    "    if hasattr(key, 'char'):\n",
    "        pressed_keys.append(key.char)\n",
    "        pressed_keys = list(set(pressed_keys))\n",
    "def on_release(key):\n",
    "    global pressed_keys\n",
    "    if hasattr(key, 'char'):\n",
    "        pressed_keys.remove(key.char)\n",
    "listener = keyboard.Listener(\n",
    "    on_press=on_press,\n",
    "    on_release=on_release)\n",
    "listener.start()\n",
    "\n",
    "cfg = config.get_single_agent_test_cfg()\n",
    "\n",
    "# create list of 75 evently spaced points, forming a circle of radius 10 around the origin\n",
    "points_list = []\n",
    "for i in range(365):\n",
    "    theta = i * 2 * np.pi / 365\n",
    "    points_list.append(np.array([10 * np.cos(theta), 10 * np.sin(theta), -5]))\n",
    "\n",
    "# create a holoocean environment\n",
    "with holoocean.make(scenario_cfg=cfg) as env:\n",
    "    # Run simulation\n",
    "    state = env.tick()\n",
    "    a = create_agent_list(cfg)\n",
    "    a[0].update_pose(state['PoseSensor'])\n",
    "    iteration = 0\n",
    "    curr_point = 0\n",
    "    ctrl = np.array([0,0,0,0, 1, -1, -1, 1])\n",
    "    point_lifetime = 0.011\n",
    "    while iteration < 50000:\n",
    "        iteration += 1\n",
    "        # Check for exit key\n",
    "        if '`' in pressed_keys:\n",
    "            break\n",
    "        if iteration % 500 == 0:\n",
    "            curr_point += 1\n",
    "        # draw all points, shaded green if visible and red otherwise\n",
    "        for p in points_list:\n",
    "            p_list = [c for c in p]\n",
    "            if a[0].can_see_point(p):\n",
    "                env.draw_point(p_list, [0, 255, 0], lifetime=point_lifetime)\n",
    "            else:\n",
    "                env.draw_point(p_list, [255, 0, 0], thickness=20, lifetime=point_lifetime)\n",
    "        a[0].update_pose(state['PoseSensor'])\n",
    "        # if iteration % control_ticks_per_update == 0:\n",
    "        #     ctrl = a[0].compute_turn_control(points_list[curr_point])\n",
    "            # ctrl = a[0].compute_turn_control(-1*points_list[0])\n",
    "        env.act('auv0', ctrl)\n",
    "        state = env.tick()\n"
   ]
  }
 ],
 "metadata": {
  "language_info": {
   "name": "python"
  }
 },
 "nbformat": 4,
 "nbformat_minor": 2
}
